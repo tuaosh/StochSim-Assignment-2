{
 "cells": [
  {
   "cell_type": "code",
   "execution_count": null,
   "metadata": {},
   "outputs": [],
   "source": [
    "import queuing as q\n",
    "import numpy as np\n",
    "import matplotlib.pyplot as plt\n",
    "import os\n",
    "\n",
    "OUTPUT_FOLDER = \"./results/\"\n",
    "os.makedirs(OUTPUT_FOLDER, exist_ok=True)"
   ]
  },
  {
   "cell_type": "code",
   "execution_count": null,
   "metadata": {},
   "outputs": [],
   "source": [
    "minSamples = 100\n",
    "maxSamples = 100000\n",
    "SEED = 42\n",
    "targetSTD = 0.01\n",
    "MU = 1\n",
    "RHO = np.linspace(0.5, 0.95, 46)"
   ]
  },
  {
   "cell_type": "markdown",
   "metadata": {},
   "source": [
    "# 2. Effect of $\\rho = \\frac{\\lambda}{n\\mu}$ on attaining target standard deviation"
   ]
  },
  {
   "cell_type": "code",
   "execution_count": null,
   "metadata": {},
   "outputs": [],
   "source": [
    "for N_SERVER in [1, 2, 4]:\n",
    "    \n",
    "    list, stds = [], []\n",
    "\n",
    "    for i in RHO:\n",
    "        LAMBDA = i * N_SERVER * MU\n",
    "        l, s = q.experiment(N_SERVER, LAMBDA, q.markovTimeDist(MU), minSamples, maxSamples, SEED, targetSTD, \"F\", False)\n",
    "        list.append(l)\n",
    "        stds.append(s)\n",
    "\n",
    "    q.saveTxt(OUTPUT_FOLDER + f\"M_M_{N_SERVER}\", list)"
   ]
  },
  {
   "cell_type": "code",
   "execution_count": null,
   "metadata": {},
   "outputs": [],
   "source": [
    "list_M_M_1 = q.readTxt(OUTPUT_FOLDER + \"M_M_1\")\n",
    "list_M_M_2 = q.readTxt(OUTPUT_FOLDER + \"M_M_2\")\n",
    "list_M_M_4 = q.readTxt(OUTPUT_FOLDER + \"M_M_4\")"
   ]
  },
  {
   "cell_type": "code",
   "execution_count": null,
   "metadata": {},
   "outputs": [],
   "source": [
    "# fig, ax = plt.subplots(2, 1, figsize=(4, 10))\n",
    "# ax[0].plot(RHO, [len(l) for l in list])\n",
    "# ax[1].plot(RHO, stds)\n",
    "# plt.show()"
   ]
  },
  {
   "cell_type": "markdown",
   "metadata": {},
   "source": [
    "# 3. Shortest job first scheduling"
   ]
  },
  {
   "cell_type": "code",
   "execution_count": null,
   "metadata": {},
   "outputs": [],
   "source": [
    "N_SERVER = 1"
   ]
  },
  {
   "cell_type": "code",
   "execution_count": null,
   "metadata": {},
   "outputs": [],
   "source": [
    "list, stds = [], []\n",
    "\n",
    "for i in RHO:\n",
    "    LAMBDA = i * N_SERVER * MU\n",
    "    l, s = q.experiment(N_SERVER, LAMBDA, q.markovTimeDist(MU), minSamples, maxSamples, SEED, targetSTD, \"T\", False)\n",
    "    list.append(l)\n",
    "    stds.append(s)\n",
    "\n",
    "q.saveTxt(OUTPUT_FOLDER + f\"M_M_{N_SERVER}_shortest_job_first\", list)"
   ]
  },
  {
   "cell_type": "code",
   "execution_count": null,
   "metadata": {},
   "outputs": [],
   "source": [
    "list_M_M_1_shortest_job_first = q.readTxt(OUTPUT_FOLDER + \"M_M_1_shortest_job_first\")"
   ]
  },
  {
   "cell_type": "markdown",
   "metadata": {},
   "source": [
    "# Different service rate distributions"
   ]
  },
  {
   "cell_type": "markdown",
   "metadata": {},
   "source": [
    "## Deterministic distribution"
   ]
  },
  {
   "cell_type": "code",
   "execution_count": null,
   "metadata": {},
   "outputs": [],
   "source": [
    "tInter = 1"
   ]
  },
  {
   "cell_type": "code",
   "execution_count": null,
   "metadata": {},
   "outputs": [],
   "source": [
    "for N_SERVER in [1, 2, 4]:\n",
    "    \n",
    "    list, stds = [], []\n",
    "\n",
    "    for i in RHO:\n",
    "        LAMBDA = i * N_SERVER * MU\n",
    "        l, s = q.experiment(N_SERVER, LAMBDA, q.deterministicTimeDist(tInter), minSamples, maxSamples, SEED, targetSTD, \"F\", False)\n",
    "        list.append(l)\n",
    "        stds.append(s)\n",
    "\n",
    "    q.saveTxt(OUTPUT_FOLDER + f\"M_D_{N_SERVER}\", list)"
   ]
  },
  {
   "cell_type": "code",
   "execution_count": null,
   "metadata": {},
   "outputs": [],
   "source": [
    "list_M_D_1 = q.readTxt(OUTPUT_FOLDER + \"M_D_1\")\n",
    "list_M_D_2 = q.readTxt(OUTPUT_FOLDER + \"M_D_2\")\n",
    "list_M_D_4 = q.readTxt(OUTPUT_FOLDER + \"M_D_4\")"
   ]
  },
  {
   "cell_type": "markdown",
   "metadata": {},
   "source": [
    "## Hyperexponential longtail-distribution"
   ]
  },
  {
   "cell_type": "code",
   "execution_count": null,
   "metadata": {},
   "outputs": [],
   "source": [
    "rateA = 1.0\n",
    "rateB = 5.0\n",
    "probA = 0.75"
   ]
  },
  {
   "cell_type": "code",
   "execution_count": null,
   "metadata": {},
   "outputs": [],
   "source": [
    "for N_SERVER in [1, 2, 4]:\n",
    "    \n",
    "    list, stds = [], []\n",
    "\n",
    "    for i in RHO:\n",
    "        LAMBDA = i * N_SERVER * MU\n",
    "        l, s = q.experiment(N_SERVER, LAMBDA, q.longtailHyperexponentialDist(rateA, rateB, probA), minSamples, maxSamples, SEED, targetSTD, \"F\", False)\n",
    "        list.append(l)\n",
    "        stds.append(s)\n",
    "\n",
    "    q.saveTxt(OUTPUT_FOLDER + f\"M_H_{N_SERVER}\", list)"
   ]
  },
  {
   "cell_type": "code",
   "execution_count": null,
   "metadata": {},
   "outputs": [],
   "source": [
    "list_M_H_1 = q.readTxt(OUTPUT_FOLDER + \"M_H_1\")\n",
    "list_M_H_2 = q.readTxt(OUTPUT_FOLDER + \"M_H_2\")\n",
    "list_M_H_4 = q.readTxt(OUTPUT_FOLDER + \"M_H_4\")"
   ]
  }
 ],
 "metadata": {
  "kernelspec": {
   "display_name": "Python 3",
   "language": "python",
   "name": "python3"
  },
  "language_info": {
   "codemirror_mode": {
    "name": "ipython",
    "version": 3
   },
   "file_extension": ".py",
   "mimetype": "text/x-python",
   "name": "python",
   "nbconvert_exporter": "python",
   "pygments_lexer": "ipython3",
   "version": "3.13.0"
  }
 },
 "nbformat": 4,
 "nbformat_minor": 2
}
