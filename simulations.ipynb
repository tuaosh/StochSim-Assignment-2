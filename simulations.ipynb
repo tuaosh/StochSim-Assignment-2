{
 "cells": [
  {
   "cell_type": "code",
   "execution_count": null,
   "metadata": {},
   "outputs": [],
   "source": [
    "import queuing as q\n",
    "import numpy as np\n",
    "import matplotlib.pyplot as plt\n",
    "import os"
   ]
  },
  {
   "cell_type": "code",
   "execution_count": null,
   "metadata": {},
   "outputs": [],
   "source": [
    "MU = 1\n",
    "minSamples = 100\n",
    "maxSamples = 100000\n",
    "SEED = 42\n",
    "RHO = np.linspace(0.5, 0.95, 46)\n"
   ]
  },
  {
   "cell_type": "markdown",
   "metadata": {},
   "source": [
    "# Effect of $\\rho = \\frac{\\lambda}{n\\mu}$ on attaining target standard deviation"
   ]
  },
  {
   "cell_type": "markdown",
   "metadata": {},
   "source": [
    "## $n = 1$"
   ]
  },
  {
   "cell_type": "code",
   "execution_count": null,
   "metadata": {},
   "outputs": [],
   "source": [
    "N_SERVER = 1"
   ]
  },
  {
   "cell_type": "code",
   "execution_count": null,
   "metadata": {},
   "outputs": [],
   "source": [
    "list1, stds1 = [], []\n",
    "for i in RHO:\n",
    "    LAMBDA = i * N_SERVER * MU\n",
    "    l, s = q.experiment(N_SERVER, LAMBDA, q.markovTimeDist(MU), minSamples, maxSamples, SEED, 0.01, \"F\", False)\n",
    "    list1.append(l)\n",
    "    stds1.append(s)\n",
    "    os.makedirs(f\"./N{N_SERVER}\", exist_ok=True)\n",
    "    np.savetxt(f\"./N{N_SERVER}/list{i}.txt\", l)"
   ]
  },
  {
   "cell_type": "code",
   "execution_count": 1,
   "metadata": {},
   "outputs": [
    {
     "ename": "NameError",
     "evalue": "name 'plt' is not defined",
     "output_type": "error",
     "traceback": [
      "\u001b[0;31m---------------------------------------------------------------------------\u001b[0m",
      "\u001b[0;31mNameError\u001b[0m                                 Traceback (most recent call last)",
      "Cell \u001b[0;32mIn[1], line 1\u001b[0m\n\u001b[0;32m----> 1\u001b[0m fig, ax \u001b[38;5;241m=\u001b[39m \u001b[43mplt\u001b[49m\u001b[38;5;241m.\u001b[39msubplots(\u001b[38;5;241m2\u001b[39m,\u001b[38;5;241m1\u001b[39m, figsize\u001b[38;5;241m=\u001b[39m(\u001b[38;5;241m4\u001b[39m,\u001b[38;5;241m10\u001b[39m))\n\u001b[1;32m      2\u001b[0m ax[\u001b[38;5;241m0\u001b[39m]\u001b[38;5;241m.\u001b[39mplot(RHO, [\u001b[38;5;28mlen\u001b[39m(l) \u001b[38;5;28;01mfor\u001b[39;00m l \u001b[38;5;129;01min\u001b[39;00m list1])\n\u001b[1;32m      3\u001b[0m ax[\u001b[38;5;241m1\u001b[39m]\u001b[38;5;241m.\u001b[39mplot(RHO, stds1)\n",
      "\u001b[0;31mNameError\u001b[0m: name 'plt' is not defined"
     ]
    }
   ],
   "source": [
    "fig, ax = plt.subplots(2,1, figsize=(4,10))\n",
    "ax[0].plot(RHO, [len(l) for l in list1])\n",
    "ax[1].plot(RHO, stds1)\n",
    "plt.show()"
   ]
  },
  {
   "cell_type": "markdown",
   "metadata": {},
   "source": [
    "## $n = 2$"
   ]
  },
  {
   "cell_type": "code",
   "execution_count": null,
   "metadata": {},
   "outputs": [],
   "source": [
    "N_SERVER = 2"
   ]
  },
  {
   "cell_type": "code",
   "execution_count": null,
   "metadata": {},
   "outputs": [],
   "source": [
    "for i in RHO:\n",
    "    LAMBDA = i * N_SERVER * MU\n",
    "    l, s = q.experiment(N_SERVER, LAMBDA, q.markovTimeDist(MU), minSamples, maxSamples, SEED, 0.01, \"F\", False)\n",
    "    list1.append(l)\n",
    "    stds1.append(s)\n",
    "    os.makedirs(f\"./N{N_SERVER}\", exist_ok=True)\n",
    "    np.savetxt(f\"./N{N_SERVER}/list{i}.txt\", l)"
   ]
  },
  {
   "cell_type": "code",
   "execution_count": null,
   "metadata": {},
   "outputs": [],
   "source": [
    "fig, ax = plt.subplots(2,1, figsize=(4,10))\n",
    "ax[0].plot(RHO, [len(l) for l in list1])\n",
    "ax[1].plot(RHO, stds1)\n",
    "# plt.show()"
   ]
  },
  {
   "cell_type": "markdown",
   "metadata": {},
   "source": [
    "## $n = 4$"
   ]
  },
  {
   "cell_type": "code",
   "execution_count": null,
   "metadata": {},
   "outputs": [],
   "source": [
    "N_SERVER = 4"
   ]
  },
  {
   "cell_type": "code",
   "execution_count": null,
   "metadata": {},
   "outputs": [],
   "source": [
    "for i in RHO:\n",
    "    LAMBDA = i * N_SERVER * MU\n",
    "    l, s = q.experiment(N_SERVER, LAMBDA, q.markovTimeDist(MU), minSamples, maxSamples, SEED, 0.01, \"F\", False)\n",
    "    list1.append(l)\n",
    "    stds1.append(s)\n",
    "    os.makedirs(f\"./N{N_SERVER}\", exist_ok=True)\n",
    "    np.savetxt(f\"./N{N_SERVER}/list{i}.txt\", l)"
   ]
  },
  {
   "cell_type": "code",
   "execution_count": null,
   "metadata": {},
   "outputs": [],
   "source": [
    "l = np.savetxt(f\"./N{N_SERVER}/list{i}.txt\", l)\n",
    "fig, ax = plt.subplots(2,1, figsize=(4,10))\n",
    "# ax[0].plot(RHO, [len(l) for l in list1])\n",
    "ax[1].plot(RHO, stds1)\n",
    "plt.show()"
   ]
  }
 ],
 "metadata": {
  "kernelspec": {
   "display_name": "ComputationalScience",
   "language": "python",
   "name": "python3"
  },
  "language_info": {
   "codemirror_mode": {
    "name": "ipython",
    "version": 3
   },
   "file_extension": ".py",
   "mimetype": "text/x-python",
   "name": "python",
   "nbconvert_exporter": "python",
   "pygments_lexer": "ipython3",
   "version": "3.11.10"
  }
 },
 "nbformat": 4,
 "nbformat_minor": 2
}
